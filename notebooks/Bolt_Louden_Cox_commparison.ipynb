{
 "cells": [
  {
   "cell_type": "markdown",
   "id": "75f2f78e",
   "metadata": {},
   "source": [
    "# Figura de merito de los criterios tradicionales\n",
    "\n",
    "En este Notebook se calculan las figuras de merito de las los criterios Bonelo, Bolt y \n"
   ]
  },
  {
   "cell_type": "code",
   "execution_count": null,
   "id": "74f19a99",
   "metadata": {},
   "outputs": [],
   "source": [
    "import  sys\n",
    "import os \n",
    "\n",
    "dir_actual = os.path.abspath('')\n",
    "dir_raiz = os.path.dirname(dir_actual)\n",
    "# Añadir la ruta raíz al sys.path si aún no está\n",
    "if dir_raiz not in sys.path:\n",
    "    sys.path.append(dir_raiz)\n",
    "print(f\"Ruta raíz del proyecto añadida al path: {dir_raiz}\")\n",
    "from mesh.mesh_3D_generator import generate_mesh_parallelepiped\n",
    "#Frecuencia maxima de simulacion\n",
    "import numpy as np\n",
    "from FEM.FEM_source import FEM_Source_Solver_Average\n",
    "from mesh.mesh_3D_complex import create_complex_mesh\n",
    "\n",
    "f_max = 200\n",
    "f_min = 20\n",
    "\n",
    "#Dimensiones del Recinto base\n",
    "\n",
    "Lz = 2.5\n",
    "######## DIMENSIONES INICIALES MUYY CHICAS PARA PROBAR DEPUES CAMBIAR #############\n",
    "                            #x[m]  y[m] \n",
    "room_base = np.array([      [0.0, 0.0],  \n",
    "                            [1.0, 0.0],  \n",
    "                            [1.0, 1.0],  \n",
    "                            [0.0, 1.0]   \n",
    "                       ])\n",
    "#Posicion de Emisor \n",
    "Sx = .5\n",
    "Sy = .5\n",
    "Sz = .5\n",
    "Source_position = [Sx, Sy, Sz]\n",
    "\n",
    "#Posicion de Receptor \n",
    "Rx = .8\n",
    "Ry = .8\n",
    "Rz = .8 \n",
    "Receptor_position = [Rx, Ry, Rz]\n",
    "\n"
   ]
  }
 ],
 "metadata": {
  "language_info": {
   "name": "python"
  }
 },
 "nbformat": 4,
 "nbformat_minor": 5
}
