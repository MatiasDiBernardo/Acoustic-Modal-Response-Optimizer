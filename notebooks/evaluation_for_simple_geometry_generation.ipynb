{
 "cells": [
  {
   "cell_type": "markdown",
   "id": "3400d78f",
   "metadata": {},
   "source": [
    "## Evaluar el funcionamiento de la etapa 1 del proceso de optimización"
   ]
  },
  {
   "cell_type": "code",
   "execution_count": null,
   "id": "3a5aa33e",
   "metadata": {
    "vscode": {
     "languageId": "plaintext"
    }
   },
   "outputs": [],
   "source": [
    "\n",
    "from plots.graph_room_outline import plot_outline_simple\n",
    "\n",
    "from outline_optim import find_best_outline\n",
    "\n",
    "# Inputs usuario\n",
    "Lx = 2.5       # Largo de la sala en X \n",
    "Ly = 3         # Largo de la sala en Y\n",
    "Lz = 2.2       # Alto de la sala\n",
    "Dx = 0.4       # Delta X\n",
    "Dy = 0.6       # Delta Y\n",
    "Dz = 0.15      # Delta Z\n",
    "\n",
    "## Posiciones fuente y receptor (en metros)\n",
    "source_position = (1.9, 1.0, 1.3)\n",
    "receptor_position = (1.25, 1.9, 1.2)\n",
    "\n",
    "## Número de cortes en las paredes\n",
    "n_walls = 2    \n",
    "\n",
    "# Inicio del ciclo de iteración\n",
    "## 0) Evalúa condiciones iniciales\n",
    "\n",
    "## 1) Mejores dimensiones con geometrías simples\n",
    "final_best_room, best_room_spacing, merit, mag_best = find_best_outline(Lx, Ly, Lz, Dx, Dy, Dz, source_position, receptor_position)\n",
    "    \n",
    "print(\"Espaciado en dX: \", best_room_spacing[0])\n",
    "print(\"Espaciado en dY: \", best_room_spacing[1])\n",
    "print(merit)\n",
    "\n",
    "plot_outline_simple(Lx, Ly, Dx, Dy, final_best_room[0], final_best_room[1])\n"
   ]
  }
 ],
 "metadata": {
  "language_info": {
   "name": "python"
  }
 },
 "nbformat": 4,
 "nbformat_minor": 5
}
