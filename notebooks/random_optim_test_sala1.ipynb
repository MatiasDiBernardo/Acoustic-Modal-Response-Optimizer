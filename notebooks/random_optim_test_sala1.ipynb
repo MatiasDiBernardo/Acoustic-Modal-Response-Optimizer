{
 "cells": [
  {
   "cell_type": "markdown",
   "id": "9b9190d7",
   "metadata": {},
   "source": [
    "## Se prueba la optimización random (fuerza bruta)"
   ]
  },
  {
   "cell_type": "code",
   "execution_count": null,
   "id": "3b9bb2d4",
   "metadata": {
    "vscode": {
     "languageId": "plaintext"
    }
   },
   "outputs": [],
   "source": [
    "import os\n",
    "import time\n",
    "os.chdir('..')"
   ]
  },
  {
   "cell_type": "code",
   "execution_count": null,
   "id": "ebc6f302",
   "metadata": {
    "vscode": {
     "languageId": "plaintext"
    }
   },
   "outputs": [],
   "source": []
  }
 ],
 "metadata": {
  "language_info": {
   "name": "python"
  }
 },
 "nbformat": 4,
 "nbformat_minor": 5
}
